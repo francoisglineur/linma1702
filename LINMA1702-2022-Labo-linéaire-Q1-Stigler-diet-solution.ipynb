{
 "cells": [
  {
   "cell_type": "markdown",
   "metadata": {},
   "source": [
    "## LINMA1702 - Laboratoire optimisation linéaire - Question 1 : Stigler's diet"
   ]
  },
  {
   "cell_type": "markdown",
   "metadata": {},
   "source": [
    "**Instructions**. Dans ce notebook, on vous fournit les énoncés des questions à traiter, les données du problème ainsi qu'une partie du code nécessaire pour répondre à ces questions. Les parties qui sont à compléter sont indiquées par (...) (et les commentaires #TODO)"
   ]
  },
  {
   "cell_type": "code",
   "execution_count": 1,
   "metadata": {},
   "outputs": [],
   "source": [
    "from scipy.optimize import linprog   # import du solveur d'optimisation linéaire à utiliser\n",
    "import numpy as np                   # numpy toujours utile pour manipuler des vecteurs & matrices\n",
    "import matplotlib.pyplot as plt      # pour graphiques éventuels"
   ]
  },
  {
   "cell_type": "markdown",
   "metadata": {},
   "source": [
    "### Introduction et données\n",
    "\n",
    "Stigler pose en 1945 le probleme de déterminer le régime alimentaire idéal à moindre coût.\n",
    "\n",
    "Il considère pour cela 9 nutriments et détermine les quantités idéales journalières pour un homme modérement actif, pesant 154 livres (pour chacune nutriment, l'unité de mesure pour la quantité est précisée) :"
   ]
  },
  {
   "cell_type": "code",
   "execution_count": 2,
   "metadata": {},
   "outputs": [],
   "source": [
    "StiglerNutriments =                [ 'Calories (kcal)', 'Protein (g)', 'Calcium (g)', 'Iron (mg)', 'Vitamin A (kIU)',  \n",
    "                                     'Thiamine (mg)', 'Riboflavin (mg)', 'Niacin (mg)', 'Ascorbic Acid (mg)' ]\n",
    "StiglerQuantitesIdeales = np.array([ 3000 , 70 , 0.8 , 12 , 5 , 1.8 , 2.7 , 18 , 75 ])"
   ]
  },
  {
   "cell_type": "markdown",
   "metadata": {},
   "source": [
    "Il dresse ensuite une liste de 77 aliments :"
   ]
  },
  {
   "cell_type": "code",
   "execution_count": 3,
   "metadata": {},
   "outputs": [],
   "source": [
    "StiglerAliments = ['Wheat Flour (Enriched)','Macaroni','Wheat Cereal (Enriched)','Corn Flakes','Corn Meal',\n",
    "                   'Hominy Grits','Rice','Rolled Oats','White Bread (Enriched)','Whole Wheat Bread','Rye Bread',\n",
    "                   'Pound Cake','Soda Crackers','Milk','Evaporated Milk (can)','Butter','Oleomargarine','Eggs',\n",
    "                   'Cheese (Cheddar)','Cream','Peanut Butter','Mayonnaise','Crisco','Lard','Sirloin Steak',\n",
    "                   'Round Steak','Rib Roast','Chuck Roast','Plate','Liver (Beef)','Leg of Lamb','Lamb Chops (Rib)',\n",
    "                   'Pork Chops','Pork Loin Roast','Bacon','Ham, smoked','Salt Pork','Roasting Chicken','Veal Cutlets',\n",
    "                   'Salmon, Pink (can)','Apples','Bananas','Lemons','Oranges','Green Beans','Cabbage','Carrots',\n",
    "                   'Celery','Lettuce','Onions','Potatoes','Spinach','Sweet Potatoes','Peaches (can)','Pears (can)',\n",
    "                   'Pineapple (can)','Asparagus (can)','Green Beans (can)','Pork and Beans (can)','Corn (can)',\n",
    "                   'Peas (can)','Tomatoes (can)','Tomato Soup (can)','Peaches, Dried','Prunes, Dried',\n",
    "                   'Raisins, Dried','Peas, Dried','Lima Beans, Dried','Navy Beans, Dried','Coffee','Tea',\n",
    "                   'Cocoa','Chocolate','Sugar','Corn Syrup','Molasses','Strawberry Preserves']"
   ]
  },
  {
   "cell_type": "markdown",
   "metadata": {},
   "source": [
    " et, pour chacun d'eux, la quantité de chaque nutriment qu'ils renferment par dollar de cet aliment (avec les prix de 1939) :"
   ]
  },
  {
   "cell_type": "code",
   "execution_count": 4,
   "metadata": {},
   "outputs": [],
   "source": [
    "# Matrice contenant les informations nutritionnelles (chacune des 9 lignes = un nutriment ; chacune des 77 colonnes = un aliment)\n",
    "StiglerTable = np.array([ [44700,11600,11800,11400,36000,28600,21200,25300,15000,12200,12400,8000 ,12500,6100 ,8400 ,10800,20600,2900 ,7400 ,3500 ,15700,8600 ,20100,41700,2900 ,2200 ,3400 ,3600 ,8500 ,2200 ,3100 ,3300 ,3500 ,4400 ,10400,6700 ,18800,1800 ,1700 ,5800 ,5800 ,4900 ,1000 ,2200 ,2400 ,2600 ,2700 ,900  ,400  ,5800 ,14300,1100 ,9600 ,3700 ,3000 ,2400 ,400  ,1000 ,7500 ,5200 ,2300 ,1300 ,1600 ,8500 ,12800,13500,20000,17400,26900,0    ,0    ,8700 ,8000 ,34900,14700,9000 ,6400 ],\n",
    "                          [1411 ,418  ,377  ,252  ,897  ,680  ,460  ,907  ,488  ,484  ,439  ,130  ,288  ,310  ,422  ,9    ,17   ,238  ,448  ,49   ,661  ,18   ,0    ,0    ,166  ,214  ,213  ,309  ,404  ,333  ,245  ,140  ,196  ,249  ,152  ,212  ,164  ,184  ,156  ,705  ,27   ,60   ,21   ,40   ,138  ,125  ,73   ,51   ,27   ,166  ,336  ,106  ,138  ,20   ,8    ,16   ,33   ,54   ,364  ,136  ,136  ,63   ,71   ,87   ,99   ,104  ,1367 ,1055 ,1691 ,0    ,0    ,237  ,77   ,0    ,0    ,0    ,11   ],\n",
    "                          [2    ,0.7  ,14.4 ,0.1  ,1.7  ,0.8  ,0.6  ,5.1  ,2.5  ,2.7  ,1.1  ,0.4  ,0.5  ,10.5 ,15.1 ,0.2  ,0.6  ,1    ,16.4 ,1.7  ,1    ,0.2  ,0    ,0    ,0.1  ,0.1  ,0.1  ,0.2  ,0.2  ,0.2  ,0.1  ,0.1  ,0.2  ,0.3  ,0.2  ,0.2  ,0.1  ,0.1  ,0.1  ,6.8  ,0.5  ,0.4  ,0.5  ,1.1  ,3.7  ,4    ,2.8  ,3    ,1.1  ,3.8  ,1.8  ,0    ,2.7  ,0.4  ,0.3  ,0.4  ,0.3  ,2    ,4    ,0.2  ,0.6  ,0.7  ,0.6  ,1.7  ,2.5  ,2.5  ,4.2  ,3.7  ,11.4 ,0    ,0    ,3    ,1.3  ,0    ,0.5  ,10.3 ,0.4  ],\n",
    "                          [365  ,54   ,175  ,56   ,99   ,80   ,41   ,341  ,115  ,125  ,82   ,31   ,50   ,18   ,9    ,3    ,6    ,52   ,19   ,3    ,48   ,8    ,0    ,0    ,34   ,32   ,33   ,46   ,62   ,139  ,20   ,15   ,30   ,37   ,23   ,31   ,26   ,30   ,24   ,45   ,36   ,30   ,14   ,18   ,80   ,36   ,43   ,23   ,22   ,59   ,118  ,138  ,54   ,10   ,8    ,8    ,12   ,65   ,134  ,16   ,45   ,38   ,43   ,173  ,154  ,136  ,345  ,459  ,792  ,0    ,0    ,72   ,39   ,0    ,74   ,244  ,7    ],\n",
    "                          [0    ,0    ,0    ,0    ,30.9 ,0    ,0    ,0    ,0    ,0    ,0    ,18.9 ,0    ,16.8 ,26   ,44.2 ,55.8 ,18.6 ,28.1 ,16.9 ,0    ,2.7  ,0    ,0.2  ,0.2  ,0.4  ,0    ,0.4  ,0    ,169.2,0    ,0    ,0    ,0    ,0    ,0    ,0    ,0.1  ,0    ,3.5  ,7.3  ,17.4 ,0    ,11.1 ,69   ,7.2  ,188.5,0.9  ,112.4,16.6 ,6.7  ,918.4,290.7,21.5 ,0.8  ,2    ,16.3 ,53.9 ,3.5  ,12   ,34.9 ,53.2 ,57.9 ,86.8 ,85.7 ,4.5  ,2.9  ,5.1  ,0    ,0    ,0    ,0    ,0    ,0    ,0    ,0    ,0.2  ],\n",
    "                          [55.4 ,3.2  ,14.4 ,13.5 ,17.4 ,10.6 ,2    ,37.1 ,13.8 ,13.9 ,9.9  ,2.8  ,0    ,4    ,3    ,0    ,0.2  ,2.8  ,0.8  ,0.6  ,9.6  ,0.4  ,0    ,0    ,2.1  ,2.5  ,0    ,1    ,0.9  ,6.4  ,2.8  ,1.7  ,17.4 ,18.2 ,1.8  ,9.9  ,1.4  ,0.9  ,1.4  ,1    ,3.6  ,2.5  ,0.5  ,3.6  ,4.3  ,9    ,6.1  ,1.4  ,1.8  ,4.7  ,29.4 ,5.7  ,8.4  ,0.5  ,0.8  ,2.8  ,1.4  ,1.6  ,8.3  ,1.6  ,4.9  ,3.4  ,3.5  ,1.2  ,3.9  ,6.3  ,28.7 ,26.9 ,38.4 ,4    ,0    ,2    ,0.9  ,0    ,0    ,1.9  ,0.2  ],\n",
    "                          [33.3 ,1.9  ,8.8  ,2.3  ,7.9  ,1.6  ,4.8  ,8.9  ,8.5  ,6.4  ,3    ,3    ,0    ,16   ,23.5 ,0.2  ,0    ,6.5  ,10.3 ,2.5  ,8.1  ,0.5  ,0    ,0.5  ,2.9  ,2.4  ,2    ,4    ,0    ,50.8 ,3.9  ,2.7  ,2.7  ,3.6  ,1.8  ,3.3  ,1.8  ,1.8  ,2.4  ,4.9  ,2.7  ,3.5  ,0    ,1.3  ,5.8  ,4.5  ,4.3  ,1.4  ,3.4  ,5.9  ,7.1  ,13.8 ,5.4  ,1    ,0.8  ,0.8  ,2.1  ,4.3  ,7.7  ,2.7  ,2.5  ,2.5  ,2.4  ,4.3  ,4.3  ,1.4  ,18.4 ,38.2 ,24.6 ,5.1  ,2.3  ,11.9 ,3.4  ,0    ,0    ,7.5  ,0.4  ],\n",
    "                          [441  ,68   ,114  ,68   ,106  ,110  ,60   ,64   ,126  ,160  ,66   ,17   ,0    ,7    ,11   ,2    ,0    ,1    ,4    ,0    ,471  ,0    ,0    ,5    ,69   ,87   ,0    ,120  ,0    ,316  ,86   ,54   ,60   ,79   ,71   ,50   ,0    ,68   ,57   ,209  ,5    ,28   ,4    ,10   ,37   ,26   ,89   ,9    ,11   ,21   ,198  ,33   ,83   ,31   ,5    ,7    ,17   ,32   ,56   ,42   ,37   ,36   ,67   ,55   ,65   ,24   ,162  ,93   ,217  ,50   ,42   ,40   ,14   ,0    ,5    ,146  ,3    ],\n",
    "                          [0    ,0    ,0    ,0    ,0    ,0    ,0    ,0    ,0    ,0    ,0    ,0    ,0    ,177  ,60   ,0    ,0    ,0    ,0    ,17   ,0    ,0    ,0    ,0    ,0    ,0    ,0    ,0    ,0    ,525  ,0    ,0    ,0    ,0    ,0    ,0    ,0    ,46   ,0    ,0    ,544  ,498  ,952  ,1998 ,862  ,5369 ,608  ,313  ,449  ,1184 ,2522 ,2755 ,1912 ,196  ,81   ,399  ,272  ,431  ,0    ,218  ,370  ,1253 ,862  ,57   ,257  ,136  ,0    ,0    ,0    ,0    ,0    ,0    ,0    ,0    ,0    ,0    ,0    ]])"
   ]
  },
  {
   "cell_type": "markdown",
   "metadata": {},
   "source": [
    "Enfin il cherche la composition (=le coût à investir par aliment) du **régime le moins cher possible** qui contient **au minimum** la quantite idéale de chaque nutriment.\n",
    "\n",
    "Références : \n",
    "* The Cost of Subsistence, George J. Stigler, Journal of Farm Economics, Vol. 27, No. 2 (May, 1945), pp. 303-314\n",
    "* The Diet Problem, George B. Dantzig, Interfaces, Vol. 20, No. 4, The Practice of Mathematical Programming (Jul-Aug 1990), pp. 43-47\n",
    "* Source des données numériques : https://developers.google.com/optimization/lp/glop#stigler"
   ]
  },
  {
   "cell_type": "markdown",
   "metadata": {},
   "source": [
    "### Questions\n",
    "\n",
    "**Question 1(a)** : formulez cette question sous la forme d'un problème d'optimisation linéaire,puis résolvez le à l'aide du solver linprog de scipy.\n",
    "\n",
    "*NB Stigler avait identifié de facon heuristique une solution coûtant $39.93/an (à cette époque l'algorithme du simplexe n'est pas encore decouvert !)* "
   ]
  },
  {
   "cell_type": "code",
   "execution_count": 5,
   "metadata": {},
   "outputs": [],
   "source": [
    "# Ce problème d'optimisation peut s'écrire sous la forme \" min c^T X   tel que  A x >= b   et   x >= 0\"  \n",
    "\n",
    "# TODO : construisez les vecteurs b et c et la matrice A apparaissant dans la formulation \n",
    "c = np.ones(77)               # c est un vecteur de 1 car chaque variable est un coût, et le coût total est simplement la somme\n",
    "A = StiglerTable                 \n",
    "b = StiglerQuantitesIdeales"
   ]
  },
  {
   "cell_type": "code",
   "execution_count": 6,
   "metadata": {},
   "outputs": [
    {
     "name": "stdout",
     "output_type": "stream",
     "text": [
      "Optimization terminated successfully.\n"
     ]
    }
   ],
   "source": [
    "# Le solver linprog ne permet que d'écrire des inégalités de la forme A_ub x <= b_ub \n",
    "# et donc pour pour écrire A x <= b on le transforme en -A x >= -b\n",
    "# TODO : appelez la fonction linprog pour résoudre votre problème\n",
    "res = linprog(c, A_ub=-A, b_ub=-b, options={\"disp\": False})\n",
    "print(res.message)  # affiche la réponse du solver"
   ]
  },
  {
   "cell_type": "code",
   "execution_count": 7,
   "metadata": {},
   "outputs": [
    {
     "name": "stdout",
     "output_type": "stream",
     "text": [
      "Le coût annuel (365 jours) est de 39.66 dollars.\n",
      "Les 5 ingrédients réellement présents (coût > 0.01$) dans la solution sont\n",
      "- Navy Beans, Dried         : 22.28 dollars (=56.16% du total)\n",
      "- Wheat Flour (Enriched)    : 10.77 dollars (=27.17% du total)\n",
      "- Cabbage                   :  4.09 dollars (=10.32% du total)\n",
      "- Spinach                   :  1.83 dollars (= 4.61% du total)\n",
      "- Liver (Beef)              :  0.69 dollars (= 1.74% du total)\n",
      "Les valeurs totales des nutriments sont\n",
      "- Calories (kcal)           :   3000.0 = 100.00% de la quantité idéale (3000)\n",
      "- Protein (g)               :    147.4 = 210.59% de la quantité idéale (70)\n",
      "- Calcium (g)               :      0.8 = 100.00% de la quantité idéale (1)\n",
      "- Iron (mg)                 :     60.5 = 503.89% de la quantité idéale (12)\n",
      "- Vitamin A (kIU)           :      5.0 = 100.00% de la quantité idéale (5)\n",
      "- Thiamine (mg)             :      4.1 = 228.91% de la quantité idéale (2)\n",
      "- Riboflavin (mg)           :      2.7 = 100.00% de la quantité idéale (3)\n",
      "- Niacin (mg)               :     27.3 = 151.76% de la quantité idéale (18)\n",
      "- Ascorbic Acid (mg)        :     75.0 = 100.00% de la quantité idéale (75)\n"
     ]
    }
   ],
   "source": [
    "# Voici une fonction utile pour l'affichage d'une solution \n",
    "# Elle prend en entrée la structure res qui contient la solution renvoyée par lingprog\n",
    "def affiche_sol(res):\n",
    "    tol = 0.01\n",
    "    couts = 365*res.x\n",
    "    cout_total = 365*res.fun\n",
    "    print(f\"Le coût annuel (365 jours) est de {cout_total:5.2f} dollars.\")\n",
    "    alims = [k for k in range(77) if couts[k]>tol]\n",
    "    alims.sort(key=(lambda x: -couts[x]))\n",
    "    print(f\"Les {len(alims)} ingrédients réellement présents (coût > {tol}$) dans la solution sont\")\n",
    "    for k in alims: \n",
    "       print(f\"- {StiglerAliments[k]:25} : {couts[k]:5.2f} dollars (={couts[k]/cout_total:6.2%} du total)\")\n",
    "    print(\"Les valeurs totales des nutriments sont\")\n",
    "    nutris = A @ res.x\n",
    "    for k in range(9):\n",
    "        print(f\"- {StiglerNutriments[k]:25} : {nutris[k]:8.1f} = {nutris[k]/b[k]:6.2%} de la quantité idéale ({b[k]:.0f})\")\n",
    "# Affichons la solution\n",
    "affiche_sol(res)"
   ]
  },
  {
   "cell_type": "markdown",
   "metadata": {},
   "source": [
    "**Question 1(b)** : résolvez à nouveau le problème mais en exigeant à présent que régime atteigne exactement les quantités idéales de chaque nutriment. Commentez"
   ]
  },
  {
   "cell_type": "code",
   "execution_count": 8,
   "metadata": {},
   "outputs": [
    {
     "name": "stdout",
     "output_type": "stream",
     "text": [
      "Optimization terminated successfully.\n",
      "Le coût annuel (365 jours) est de 50.43 dollars.\n",
      "Les 9 ingrédients réellement présents (coût > 0.01$) dans la solution sont\n",
      "- Evaporated Milk (can)     : 16.50 dollars (=32.71% du total)\n",
      "- Lard                      :  8.90 dollars (=17.66% du total)\n",
      "- Wheat Flour (Enriched)    :  6.60 dollars (=13.09% du total)\n",
      "- Corn Meal                 :  6.21 dollars (=12.32% du total)\n",
      "- Liver (Beef)              :  5.57 dollars (=11.05% du total)\n",
      "- Cabbage                   :  3.36 dollars (= 6.67% du total)\n",
      "- Potatoes                  :  1.88 dollars (= 3.72% du total)\n",
      "- Peanut Butter             :  1.16 dollars (= 2.29% du total)\n",
      "- Spinach                   :  0.24 dollars (= 0.48% du total)\n",
      "Les valeurs totales des nutriments sont\n",
      "- Calories (kcal)           :   3000.0 = 100.00% de la quantité idéale (3000)\n",
      "- Protein (g)               :     70.0 = 100.00% de la quantité idéale (70)\n",
      "- Calcium (g)               :      0.8 = 100.00% de la quantité idéale (1)\n",
      "- Iron (mg)                 :     12.0 = 100.00% de la quantité idéale (12)\n",
      "- Vitamin A (kIU)           :      5.0 = 100.00% de la quantité idéale (5)\n",
      "- Thiamine (mg)             :      1.8 = 100.00% de la quantité idéale (2)\n",
      "- Riboflavin (mg)           :      2.7 = 100.00% de la quantité idéale (3)\n",
      "- Niacin (mg)               :     18.0 = 100.00% de la quantité idéale (18)\n",
      "- Ascorbic Acid (mg)        :     75.0 = 100.00% de la quantité idéale (75)\n"
     ]
    }
   ],
   "source": [
    "# Le solver linprog permet aussi d'écrire directement des égalités de la forme A_eq x = b_eq\n",
    "# ce qui ce dont nous avons besoin ici, puisque ce second modèle possède pour contraintes A x = b \n",
    "res = linprog(c, A_eq=A, b_eq=b, options={\"disp\": False})\n",
    "print(res.message)\n",
    "affiche_sol(res)"
   ]
  },
  {
   "cell_type": "markdown",
   "metadata": {},
   "source": [
    "**Question 1(c)** : on se propose à présent de modifier le nombre de calories cible dans le régime. En résolvant le\n",
    "problème de façon répétée, tracez la courbe du coût optimal en fonction du nombre de calories\n",
    "cible (p.ex. l’intervalle [1000 4000] par pas de 100).\n",
    "Commentez (on pourra examiner à la fois la variante du point (a) et celle du point (b))."
   ]
  },
  {
   "cell_type": "code",
   "execution_count": 9,
   "metadata": {},
   "outputs": [],
   "source": [
    "range_calories = range(1000,4000,100)\n",
    "couts_regimes_suffisants = []\n",
    "couts_regimes_ideaux = []\n",
    "b_variable = b\n",
    "for calories in range_calories:\n",
    "    b_variable[0] = calories     # la valeur cible en calories est contenue en première position de membre de droite b\n",
    "    couts_regimes_suffisants.append(365*linprog(c, A_ub=-A, b_ub=-b_variable, options={\"disp\": False}).fun)\n",
    "    couts_regimes_ideaux.append(365*linprog(c, A_eq=A, b_eq=b_variable, options={\"disp\": False}).fun)"
   ]
  },
  {
   "cell_type": "code",
   "execution_count": 10,
   "metadata": {},
   "outputs": [
    {
     "data": {
      "image/png": "[encoded data removed]",
      "text/plain": [
       "<Figure size 900x600 with 1 Axes>"
      ]
     },
     "metadata": {
      "needs_background": "light"
     },
     "output_type": "display_data"
    }
   ],
   "source": [
    "# Affichage graphique \n",
    "plt.rcParams['figure.dpi'] = 150\n",
    "plt.plot(range_calories,couts_regimes_suffisants, 'b.-', linewidth=2, markersize=10)\n",
    "plt.plot(range_calories,couts_regimes_ideaux, 'r.-', linewidth=2, markersize=10)\n",
    "plt.title('Coût annuel minimal des régimes alimentaires (en dollars)')\n",
    "plt.legend(['Régime suffisant', 'Régime idéal'])\n",
    "plt.grid()\n",
    "plt.show()"
   ]
  },
  {
   "cell_type": "markdown",
   "metadata": {},
   "source": [
    "**Question 1(d)** : résolvez à nouveau le problème pour un régime atteignant les quantités de nutriments à 5% près (c-à-d en imposant pour chaque nutriment dont la quantité idéale est v de se situer dans l’intervalle [0.95v 1.05v]). Commentez."
   ]
  },
  {
   "cell_type": "code",
   "execution_count": 11,
   "metadata": {},
   "outputs": [
    {
     "name": "stdout",
     "output_type": "stream",
     "text": [
      "Optimization terminated successfully.\n",
      "Le coût annuel (365 jours) est de 52.95 dollars.\n",
      "Les 8 ingrédients réellement présents (coût > 0.01$) dans la solution sont\n",
      "- Lard                      : 16.41 dollars (=31.00% du total)\n",
      "- Evaporated Milk (can)     : 15.71 dollars (=29.67% du total)\n",
      "- Wheat Flour (Enriched)    :  9.38 dollars (=17.71% du total)\n",
      "- Cabbage                   :  3.98 dollars (= 7.51% du total)\n",
      "- Liver (Beef)              :  3.87 dollars (= 7.30% du total)\n",
      "- Corn Meal                 :  2.48 dollars (= 4.67% du total)\n",
      "- Spinach                   :  0.61 dollars (= 1.16% du total)\n",
      "- Peanut Butter             :  0.52 dollars (= 0.98% du total)\n",
      "Les valeurs totales des nutriments sont\n",
      "- Calories (kcal)           :   3705.0 = 95.00% de la quantité idéale (3900)\n",
      "- Protein (g)               :     66.5 = 95.00% de la quantité idéale (70)\n",
      "- Calcium (g)               :      0.8 = 95.00% de la quantité idéale (1)\n",
      "- Iron (mg)                 :     12.6 = 105.00% de la quantité idéale (12)\n",
      "- Vitamin A (kIU)           :      4.8 = 95.00% de la quantité idéale (5)\n",
      "- Thiamine (mg)             :      1.9 = 103.30% de la quantité idéale (2)\n",
      "- Riboflavin (mg)           :      2.6 = 95.00% de la quantité idéale (3)\n",
      "- Niacin (mg)               :     17.1 = 95.00% de la quantité idéale (18)\n",
      "- Ascorbic Acid (mg)        :     71.3 = 95.00% de la quantité idéale (75)\n"
     ]
    }
   ],
   "source": [
    "# Pour cette formulation on a besoin de prendre en compte deux contraintes, afin que\n",
    "# le vecteur des contenus en nutriments (qui est égal à A x) soit compris entre sa\n",
    "# borne inférieure (=0.95b) et sa borne supérieur (=1.05b)\n",
    "\n",
    "# Il faut donc écrire A x >=  0.95b et Ax <= 1.05b, ou encore (pour n'avoir que des <=)\n",
    "#                    -A x <= -0.95b et Ax <= 1.05b\n",
    "# et la matrice A_ub contiendra \"-A\" au dessus de \"A\", et le vecteurb_ub contiendra -0.95b au dessus de 1.05b\n",
    "\n",
    "# TODO : il faut donc \"rassembler\" les deux ensembles de contraintes dans une seule inégalité A_ub x <= b_ub\n",
    "# et ainsi la matrice A_ub contiendra \"-A\" au dessus de \"A\", et le vecteurb_ub contiendra -0.95b au dessus de 1.05b\n",
    "# Indice : utilisez np.concatenate pour concaténer deux matrices verticalement, et np.hstack pour joindre deux vecteurs (lignes)\n",
    "res = linprog(c, A_ub=np.concatenate((-A,A)), b_ub=np.hstack((-0.95*b,1.05*b)), options={\"disp\": False})\n",
    "print(res.message)\n",
    "affiche_sol(res)"
   ]
  }
 ],
 "metadata": {
  "kernelspec": {
   "display_name": "Python 3",
   "language": "python",
   "name": "python3"
  },
  "language_info": {
   "codemirror_mode": {
    "name": "ipython",
    "version": 3
   },
   "file_extension": ".py",
   "mimetype": "text/x-python",
   "name": "python",
   "nbconvert_exporter": "python",
   "pygments_lexer": "ipython3",
   "version": "3.9.2"
  }
 },
 "nbformat": 4,
 "nbformat_minor": 2
}
