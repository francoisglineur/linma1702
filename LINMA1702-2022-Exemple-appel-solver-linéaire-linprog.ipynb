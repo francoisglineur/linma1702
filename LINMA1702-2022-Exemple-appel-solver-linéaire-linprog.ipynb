{
 "cells": [
  {
   "attachments": {
    "image.png": {
     "image/png": "[encoded data removed]"
    }
   },
   "cell_type": "markdown",
   "metadata": {},
   "source": [
    "**Introduction**: quelques mots à propos du fonctionnement d'un notebook Jupyter \n",
    "![image.png](attachment:image.png)\n",
    "- un notebook est une suite de cellules ; certaines cellules (comme celle-ci et la suivante) contiennent du texte, et d'autres contiennent du code Python (comme les cellules repérées par \"In [ ]\" ci-dessous)\n",
    "- une cellule de code peut être exécutée en la sélectionnant (cliquer à l'intérieur) puis en cliquant sur le bouton \"Run\" de la barre d'outils ci-dessous (alternativement on peut utiliser le raccourci \"Shift-Enter\") ; les exécutées exécutée sont nommées \"In [1]\", \"In [2]\", etc.\n",
    "- une fois une cellule exécutée, son résultat s'affiche sous la cellule (messages éventuellement affichés par le code, valeur retournée par la dernière ligne)\n",
    "- il est possible de modifier n'importe quelle cellule de code : cliquer à l'intérieur pour commencer à éditer le texte\n",
    "- les lignes de code commençant par # sont des commentaires (en vert) contenant certaines explications à propos du code\n",
    "- les valeurs des variables, les définitions de fonctions, etc. sont conservées en mémoire et disponibles pour les exécutions suivantes (au sein du *Kernel* d'exécution)\n",
    "- le menu et la barre d'outils ci-dessus permettent d'effectuer d'autres actions : sauvegarder le notebook, modifier/déplacer les cellules, lancer l'exécution de toutes les cellules d'un coup, redémarrer le kernel, etc."
   ]
  },
  {
   "cell_type": "markdown",
   "metadata": {},
   "source": [
    "**Un exemple simple de problème d'optimisation linéaire**\n",
    "\n",
    "Pour reprendre l'exemple du cours (allocation de ressources pour la fabrication de portes et tables), si on considère un problème à deux variables $x_1$, $x_2$ positives ou nulles, où on souhaite maximiser la quantité $3x_1+5x_2$ sous les contraintes que $x1\\le 4$, $2 x_2\\le 12$ et $3x_1+2x_2 \\le 18$, ce qui correspond à la formulation complète suivante $$\\max_{x_1 \\ge 0, x_2 \\ge 0} 3x_1+5x_2 \\text{ tel que } \\left\\{\\begin{array}{l} x1\\le 4,\\\\ 2 x_2\\le 12,\\\\3x_1+2x_2 \\le 18 \\end{array}\\right.$$ on procède comme ceci pour résoudre avec le solveur *linprog* fourni par scipy :"
   ]
  },
  {
   "cell_type": "code",
   "execution_count": null,
   "metadata": {},
   "outputs": [],
   "source": [
    "# 0. Préparation : chargement des modules numpy et linprog de scipy\n",
    "import numpy as np\n",
    "from scipy.optimize import linprog \n",
    "\n",
    "# 1. Variables : vecteur x = (x1,x2)\n",
    "\n",
    "# Bornes sur les variables : \n",
    "\n",
    "## Pour x1 : 0 <= x1 <= 4 \n",
    "x1_bounds = (0, 4)\n",
    "\n",
    "## Pour x2 : 0 <= x2 \n",
    "x2_bounds = (0,  np.inf) \n",
    "# NB : si on ne souhaite pas borner (ou borner d'un seul côté), utiliser des bornes infinies à l'aide de -np.inf et np.inf\n",
    "# (ici on aurait bien sûr pu déduire x2 <= 6, mais pour l'exemple on garde cette contrainte sous la forme d'origine)\n",
    "\n",
    "# 2. Fonction objectif = c^T x avec c = (-3,-5)\n",
    "# NB: au lieu de maximiser 3x1+5x2 on minimise -3x1-5x2, ce qui est équivalent\n",
    "c = [-3, -5]\n",
    "\n",
    "# 3. Contraintes : ici de la forme A x <= b \n",
    "# avec la matrice A = (0 2) et le vecteur b (12)\n",
    "#                     (3 2)                 (18) \n",
    "\n",
    "A = [[0,2],[3, 2]]\n",
    "b = [12,18]\n",
    "\n",
    "# A propos des dimensions : \n",
    "# - on a n=2 variables = longueur du vecteur c = #colonnes de A \n",
    "# - on a m=2 variables = longueur du vecteur b = #lignes de A \n",
    "\n",
    "# 4. Résolution proprement dite du problème \n",
    "\n",
    "# On résout min c^T x tel que A x <= b et 0 <= x <= (4,6) à l'aide de cet appel\n",
    "res = linprog(c, A_ub=A, b_ub=b, bounds=(x1_bounds, x2_bounds), options={\"disp\": False})\n",
    "\n",
    "print(\"La solution (x1,x2) est \",res.x) # On retrouve bien la solution x=(2,6) qu'on avait trouvée graphiquement"
   ]
  },
  {
   "cell_type": "code",
   "execution_count": null,
   "metadata": {},
   "outputs": [],
   "source": [
    "# Modifions le membre de droite de la seconde contrainte (de 18 à 17)\n",
    "b[1]=17\n",
    "# et résolvons à nouveau (cette fois en demandant au solver d'afficher des détaisl sur la résolution)\n",
    "res = linprog(c, A_ub=A, b_ub=b, bounds=(x1_bounds, x2_bounds), options={\"disp\": True})\n",
    "\n",
    "print(\"La solution (x1,x2) est \",res.x) # On retrouve bien la solution non entière qu'on avait trouvée graphiquement"
   ]
  },
  {
   "cell_type": "markdown",
   "metadata": {
    "collapsed": true
   },
   "source": [
    "NB : le code linprog actuellement disponible dans scipy ne permet de résoudre que des problèmes linéaires en variables continues (pas de variables entières ou binaires). Pour résoudre de tels problèmes il faut utiliser un autre package, comme *cvxopt* par exemple (via sa fonction *glpk.ilp*) ou le module *mip* (https://www.python-mip.com/)."
   ]
  },
  {
   "cell_type": "code",
   "execution_count": null,
   "metadata": {},
   "outputs": [],
   "source": [
    "# Pour information, toutes les options disponibles avec le solver lingprog de scipy :\n",
    "from scipy.optimize import show_options\n",
    "show_options('linprog')"
   ]
  }
 ],
 "metadata": {
  "kernelspec": {
   "display_name": "Python 3",
   "language": "python",
   "name": "python3"
  },
  "language_info": {
   "codemirror_mode": {
    "name": "ipython",
    "version": 3
   },
   "file_extension": ".py",
   "mimetype": "text/x-python",
   "name": "python",
   "nbconvert_exporter": "python",
   "pygments_lexer": "ipython3",
   "version": "3.9.2"
  }
 },
 "nbformat": 4,
 "nbformat_minor": 2
}
